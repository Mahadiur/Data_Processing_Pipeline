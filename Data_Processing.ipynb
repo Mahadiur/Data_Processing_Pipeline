{
 "cells": [
  {
   "cell_type": "markdown",
   "id": "768b742a",
   "metadata": {},
   "source": [
    "### *Data Processing Pipeline by use Pytorch*"
   ]
  },
  {
   "cell_type": "code",
   "execution_count": 64,
   "id": "b48bf301",
   "metadata": {},
   "outputs": [],
   "source": [
    "import torch\n",
    "import torch.nn as nn\n",
    "import pandas as pd\n",
    "from torchvision import transforms\n",
    "import os"
   ]
  },
  {
   "cell_type": "code",
   "execution_count": 65,
   "id": "9b2d92bd",
   "metadata": {},
   "outputs": [
    {
     "data": {
      "text/html": [
       "<div>\n",
       "<style scoped>\n",
       "    .dataframe tbody tr th:only-of-type {\n",
       "        vertical-align: middle;\n",
       "    }\n",
       "\n",
       "    .dataframe tbody tr th {\n",
       "        vertical-align: top;\n",
       "    }\n",
       "\n",
       "    .dataframe thead th {\n",
       "        text-align: right;\n",
       "    }\n",
       "</style>\n",
       "<table border=\"1\" class=\"dataframe\">\n",
       "  <thead>\n",
       "    <tr style=\"text-align: right;\">\n",
       "      <th></th>\n",
       "      <th>label</th>\n",
       "      <th>pixel0</th>\n",
       "      <th>pixel1</th>\n",
       "      <th>pixel2</th>\n",
       "      <th>pixel3</th>\n",
       "      <th>pixel4</th>\n",
       "      <th>pixel5</th>\n",
       "      <th>pixel6</th>\n",
       "      <th>pixel7</th>\n",
       "      <th>pixel8</th>\n",
       "      <th>...</th>\n",
       "      <th>pixel774</th>\n",
       "      <th>pixel775</th>\n",
       "      <th>pixel776</th>\n",
       "      <th>pixel777</th>\n",
       "      <th>pixel778</th>\n",
       "      <th>pixel779</th>\n",
       "      <th>pixel780</th>\n",
       "      <th>pixel781</th>\n",
       "      <th>pixel782</th>\n",
       "      <th>pixel783</th>\n",
       "    </tr>\n",
       "  </thead>\n",
       "  <tbody>\n",
       "    <tr>\n",
       "      <th>0</th>\n",
       "      <td>1</td>\n",
       "      <td>0</td>\n",
       "      <td>0</td>\n",
       "      <td>0</td>\n",
       "      <td>0</td>\n",
       "      <td>0</td>\n",
       "      <td>0</td>\n",
       "      <td>0</td>\n",
       "      <td>0</td>\n",
       "      <td>0</td>\n",
       "      <td>...</td>\n",
       "      <td>0</td>\n",
       "      <td>0</td>\n",
       "      <td>0</td>\n",
       "      <td>0</td>\n",
       "      <td>0</td>\n",
       "      <td>0</td>\n",
       "      <td>0</td>\n",
       "      <td>0</td>\n",
       "      <td>0</td>\n",
       "      <td>0</td>\n",
       "    </tr>\n",
       "    <tr>\n",
       "      <th>1</th>\n",
       "      <td>0</td>\n",
       "      <td>0</td>\n",
       "      <td>0</td>\n",
       "      <td>0</td>\n",
       "      <td>0</td>\n",
       "      <td>0</td>\n",
       "      <td>0</td>\n",
       "      <td>0</td>\n",
       "      <td>0</td>\n",
       "      <td>0</td>\n",
       "      <td>...</td>\n",
       "      <td>0</td>\n",
       "      <td>0</td>\n",
       "      <td>0</td>\n",
       "      <td>0</td>\n",
       "      <td>0</td>\n",
       "      <td>0</td>\n",
       "      <td>0</td>\n",
       "      <td>0</td>\n",
       "      <td>0</td>\n",
       "      <td>0</td>\n",
       "    </tr>\n",
       "    <tr>\n",
       "      <th>2</th>\n",
       "      <td>1</td>\n",
       "      <td>0</td>\n",
       "      <td>0</td>\n",
       "      <td>0</td>\n",
       "      <td>0</td>\n",
       "      <td>0</td>\n",
       "      <td>0</td>\n",
       "      <td>0</td>\n",
       "      <td>0</td>\n",
       "      <td>0</td>\n",
       "      <td>...</td>\n",
       "      <td>0</td>\n",
       "      <td>0</td>\n",
       "      <td>0</td>\n",
       "      <td>0</td>\n",
       "      <td>0</td>\n",
       "      <td>0</td>\n",
       "      <td>0</td>\n",
       "      <td>0</td>\n",
       "      <td>0</td>\n",
       "      <td>0</td>\n",
       "    </tr>\n",
       "    <tr>\n",
       "      <th>3</th>\n",
       "      <td>4</td>\n",
       "      <td>0</td>\n",
       "      <td>0</td>\n",
       "      <td>0</td>\n",
       "      <td>0</td>\n",
       "      <td>0</td>\n",
       "      <td>0</td>\n",
       "      <td>0</td>\n",
       "      <td>0</td>\n",
       "      <td>0</td>\n",
       "      <td>...</td>\n",
       "      <td>0</td>\n",
       "      <td>0</td>\n",
       "      <td>0</td>\n",
       "      <td>0</td>\n",
       "      <td>0</td>\n",
       "      <td>0</td>\n",
       "      <td>0</td>\n",
       "      <td>0</td>\n",
       "      <td>0</td>\n",
       "      <td>0</td>\n",
       "    </tr>\n",
       "    <tr>\n",
       "      <th>4</th>\n",
       "      <td>0</td>\n",
       "      <td>0</td>\n",
       "      <td>0</td>\n",
       "      <td>0</td>\n",
       "      <td>0</td>\n",
       "      <td>0</td>\n",
       "      <td>0</td>\n",
       "      <td>0</td>\n",
       "      <td>0</td>\n",
       "      <td>0</td>\n",
       "      <td>...</td>\n",
       "      <td>0</td>\n",
       "      <td>0</td>\n",
       "      <td>0</td>\n",
       "      <td>0</td>\n",
       "      <td>0</td>\n",
       "      <td>0</td>\n",
       "      <td>0</td>\n",
       "      <td>0</td>\n",
       "      <td>0</td>\n",
       "      <td>0</td>\n",
       "    </tr>\n",
       "  </tbody>\n",
       "</table>\n",
       "<p>5 rows × 785 columns</p>\n",
       "</div>"
      ],
      "text/plain": [
       "   label  pixel0  pixel1  pixel2  pixel3  pixel4  pixel5  pixel6  pixel7  \\\n",
       "0      1       0       0       0       0       0       0       0       0   \n",
       "1      0       0       0       0       0       0       0       0       0   \n",
       "2      1       0       0       0       0       0       0       0       0   \n",
       "3      4       0       0       0       0       0       0       0       0   \n",
       "4      0       0       0       0       0       0       0       0       0   \n",
       "\n",
       "   pixel8  ...  pixel774  pixel775  pixel776  pixel777  pixel778  pixel779  \\\n",
       "0       0  ...         0         0         0         0         0         0   \n",
       "1       0  ...         0         0         0         0         0         0   \n",
       "2       0  ...         0         0         0         0         0         0   \n",
       "3       0  ...         0         0         0         0         0         0   \n",
       "4       0  ...         0         0         0         0         0         0   \n",
       "\n",
       "   pixel780  pixel781  pixel782  pixel783  \n",
       "0         0         0         0         0  \n",
       "1         0         0         0         0  \n",
       "2         0         0         0         0  \n",
       "3         0         0         0         0  \n",
       "4         0         0         0         0  \n",
       "\n",
       "[5 rows x 785 columns]"
      ]
     },
     "execution_count": 65,
     "metadata": {},
     "output_type": "execute_result"
    }
   ],
   "source": [
    "''' Data Load '''\n",
    "root_dir = '/Users/mahadiur/Desktop/Deep Learning Data Processing/Data_Processing_Pipeline/Data'\n",
    "dataset_path = os.path.join(root_dir, 'DigitDataset.csv')\n",
    "\n",
    "digit_data = pd.read_csv(\n",
    "    dataset_path\n",
    ")\n",
    "digit_data.head()"
   ]
  },
  {
   "cell_type": "code",
   "execution_count": 66,
   "id": "903fcaaa",
   "metadata": {},
   "outputs": [
    {
     "name": "stdout",
     "output_type": "stream",
     "text": [
      "cpu\n"
     ]
    }
   ],
   "source": [
    "''' Check Device '''\n",
    "Device = torch.device('cuda' if torch.cuda.is_available() else 'cpu')\n",
    "print(Device)"
   ]
  },
  {
   "cell_type": "code",
   "execution_count": 67,
   "id": "11cce077",
   "metadata": {},
   "outputs": [
    {
     "name": "stdout",
     "output_type": "stream",
     "text": [
      "(784,)\n",
      "(1,)\n",
      "(1, 28, 28)\n"
     ]
    }
   ],
   "source": [
    "''' Processing single example of the dataset '''\n",
    "pixels = digit_data.iloc[0].values[1:].astype('float')\n",
    "label = digit_data.iloc[0].values[0:1]\n",
    "print(pixels.shape)\n",
    "print(label.shape)\n",
    "pixels = pixels.reshape(-1, 28, 28)\n",
    "print(pixels.shape)"
   ]
  },
  {
   "cell_type": "code",
   "execution_count": 68,
   "id": "de7d1533",
   "metadata": {},
   "outputs": [],
   "source": [
    "''' Transformation '''\n",
    "Tranformations = transforms.Compose([\n",
    "    transforms.Normalize(\n",
    "        mean=torch.tensor([0.1307]),\n",
    "        std=torch.tensor([0.3081])\n",
    "    )\n",
    "])"
   ]
  },
  {
   "cell_type": "markdown",
   "id": "0b2b4bca",
   "metadata": {},
   "source": [
    "### *Data Processing Pipeline*"
   ]
  },
  {
   "cell_type": "code",
   "execution_count": 69,
   "id": "09055971",
   "metadata": {},
   "outputs": [
    {
     "name": "stdout",
     "output_type": "stream",
     "text": [
      "   label  pixel0  pixel1  pixel2  pixel3  pixel4  pixel5  pixel6  pixel7  \\\n",
      "0      1       0       0       0       0       0       0       0       0   \n",
      "1      0       0       0       0       0       0       0       0       0   \n",
      "2      1       0       0       0       0       0       0       0       0   \n",
      "3      4       0       0       0       0       0       0       0       0   \n",
      "4      0       0       0       0       0       0       0       0       0   \n",
      "\n",
      "   pixel8  ...  pixel774  pixel775  pixel776  pixel777  pixel778  pixel779  \\\n",
      "0       0  ...         0         0         0         0         0         0   \n",
      "1       0  ...         0         0         0         0         0         0   \n",
      "2       0  ...         0         0         0         0         0         0   \n",
      "3       0  ...         0         0         0         0         0         0   \n",
      "4       0  ...         0         0         0         0         0         0   \n",
      "\n",
      "   pixel780  pixel781  pixel782  pixel783  \n",
      "0         0         0         0         0  \n",
      "1         0         0         0         0  \n",
      "2         0         0         0         0  \n",
      "3         0         0         0         0  \n",
      "4         0         0         0         0  \n",
      "\n",
      "[5 rows x 785 columns]\n",
      "42000\n"
     ]
    }
   ],
   "source": [
    "from torch.utils.data import Dataset\n",
    "\n",
    "class DataPipeline(Dataset):\n",
    "    def __init__(self, file_path, transformation=None):\n",
    "        super().__init__()\n",
    "        self.data = pd.read_csv(file_path)\n",
    "        print(self.data.head())\n",
    "        self.transformation = transformation\n",
    "    \n",
    "    # Dataset length\n",
    "    def __len__(self):\n",
    "        return len(self.data)\n",
    "    \n",
    "    # Process Data\n",
    "    def __getitem__(self, index):\n",
    "        pixels = self.data.iloc[index].values[1:].astype('float32')\n",
    "        label = int(self.data.iloc[index].values[0])\n",
    "\n",
    "        pixels = torch.tensor(pixels)\n",
    "        label = torch.tensor(label)\n",
    "\n",
    "        pixels = pixels.reshape(28, 28).unsqueeze(0) / 255\n",
    "        if self.transformation:\n",
    "            pixels = Tranformations(pixels)\n",
    "        return pixels, label\n",
    "    \n",
    "\n",
    "dataset = DataPipeline(\n",
    "    file_path=dataset_path,\n",
    "    transformation=Tranformations\n",
    "    )\n",
    "print(len(dataset))"
   ]
  },
  {
   "cell_type": "markdown",
   "id": "4aa50e4d",
   "metadata": {},
   "source": [
    "### *Train-Test-Validation*"
   ]
  },
  {
   "cell_type": "code",
   "execution_count": 70,
   "id": "9ed460aa",
   "metadata": {},
   "outputs": [
    {
     "name": "stdout",
     "output_type": "stream",
     "text": [
      "29399\n",
      "6301\n",
      "6300\n"
     ]
    }
   ],
   "source": [
    "'''\n",
    "TrainDataset > BatchSize > Step \n",
    "All Batch run > 1 epoch \n",
    "'''\n",
    "from torch.utils.data import  random_split\n",
    "\n",
    "torch.manual_seed(50)\n",
    "\n",
    "train_size = int(0.7 * len(dataset))\n",
    "validation_size = int(0.15 * len(dataset))\n",
    "test_size = len(dataset) - train_size - validation_size\n",
    "\n",
    "Train_dataset, Validation_dataset, Test_dataset = random_split(\n",
    "    dataset=dataset,\n",
    "    lengths=[train_size, validation_size, test_size]\n",
    ")\n",
    "\n",
    "print(len(Train_dataset))\n",
    "print(len(Test_dataset))\n",
    "print(len(Validation_dataset))"
   ]
  },
  {
   "cell_type": "markdown",
   "id": "69b7cf75",
   "metadata": {},
   "source": [
    "### **Train, Test & Validation Dataloader**"
   ]
  },
  {
   "cell_type": "code",
   "execution_count": 71,
   "id": "7e1093f5",
   "metadata": {},
   "outputs": [],
   "source": [
    "from torch.utils.data import DataLoader\n",
    "\n",
    "Train_Dataloader = DataLoader(\n",
    "    dataset=Train_dataset,\n",
    "    batch_size=16,\n",
    "    shuffle=True\n",
    ")\n",
    "\n",
    "Test_Dataloader = DataLoader(\n",
    "    dataset=Test_dataset,\n",
    "    batch_size=16,\n",
    "    shuffle=False\n",
    ")\n",
    "\n",
    "Validation_Dataloader = DataLoader(\n",
    "    dataset=Validation_dataset,\n",
    "    batch_size=16,\n",
    "    shuffle=False\n",
    ")"
   ]
  },
  {
   "cell_type": "code",
   "execution_count": 72,
   "id": "fd7b9279",
   "metadata": {},
   "outputs": [
    {
     "name": "stdout",
     "output_type": "stream",
     "text": [
      "torch.Size([16, 1, 28, 28])\n",
      "torch.Size([16])\n"
     ]
    }
   ],
   "source": [
    "for pixel_batch, label_batch in Train_Dataloader:\n",
    "    print(pixel_batch.shape)\n",
    "    print(label_batch.shape)\n",
    "    break"
   ]
  },
  {
   "cell_type": "markdown",
   "id": "b69176b5",
   "metadata": {},
   "source": [
    "### **Digit Classifiar**"
   ]
  },
  {
   "cell_type": "code",
   "execution_count": 73,
   "id": "c0712349",
   "metadata": {},
   "outputs": [],
   "source": [
    "class DigitClassifiar(nn.Module):\n",
    "    def __init__(self):\n",
    "        super().__init__()\n",
    "        self.layer1 = nn.Linear(28 * 28, 512)\n",
    "        self.layer2 = nn.Linear(512, 256)\n",
    "        self.layer3 = nn.Linear(256, 128)\n",
    "        self.layer4 = nn.Linear(128, 10)\n",
    "    \n",
    "    def forward(self, x):\n",
    "        x = x.view(-1, 28 * 28)\n",
    "        x = self.layer1(x) # cross 1\n",
    "        x = torch.relu(x)\n",
    "        x = self.layer2(x) # cross 2\n",
    "        x = torch.relu(x)\n",
    "        x = self.layer3(x) # cross 3\n",
    "        x = torch.relu(x)\n",
    "        x = self.layer4(x) # cross 4\n",
    "        return x\n",
    "    \n"
   ]
  },
  {
   "cell_type": "markdown",
   "id": "615e1b4f",
   "metadata": {},
   "source": [
    "### **Run epochs**"
   ]
  },
  {
   "cell_type": "code",
   "execution_count": 74,
   "id": "65f4ed71",
   "metadata": {},
   "outputs": [],
   "source": [
    "def Modle_evaluation(model, data_loader, gredient, device):\n",
    "    model.eval()\n",
    "    total_loss = 0\n",
    "    actual_val = 0\n",
    "    with torch.no_grad():\n",
    "        for batch_idx, (data, target) in enumerate(data_loader):\n",
    "            data, target = data.to(device), target.to(device)\n",
    "            outputs = model(data)\n",
    "            loss = gredient(outputs, target)\n",
    "            total_loss += loss.item()\n",
    "\n",
    "            _, predict = torch.max(outputs.data, 1)\n",
    "            actual_val += (predict == target).sum().item() \n",
    "        total_loss /= len(data_loader.dataset)\n",
    "        actual_val /= len(data_loader.dataset)\n",
    "    return total_loss, actual_val\n"
   ]
  },
  {
   "cell_type": "markdown",
   "id": "fb0f8657",
   "metadata": {},
   "source": [
    "### **Train Model**"
   ]
  },
  {
   "cell_type": "code",
   "execution_count": 75,
   "id": "ba245d62",
   "metadata": {},
   "outputs": [],
   "source": [
    "gredient = nn.CrossEntropyLoss()\n",
    "import torch.optim as optimizer\n",
    "\n",
    "def Train_Model(model, train_loader, val_loader, device, gredient, optimizer, checkpoint_path, num_epochs ):\n",
    "    model.train()  \n",
    "    best_model_accurecy = 0\n",
    "    patience = 3\n",
    "\n",
    "    checkpoint_dir = os.path.dirname(checkpoint_path)\n",
    "    if not os.path.exists(checkpoint_dir):\n",
    "        os.makedirs(checkpoint_dir)    \n",
    "\n",
    "    for epoch in range(num_epochs):\n",
    "        train_loss = 0\n",
    "        for batch_idx, (pixel_batch, label_batch) in enumerate(train_loader):\n",
    "            pixel_batch, label_batch = pixel_batch.to(device), label_batch.to(device)\n",
    "            optimizer.zero_grad()\n",
    "            outputs = model(pixel_batch)\n",
    "            loss = gredient(outputs, label_batch)\n",
    "            loss.backward()\n",
    "            optimizer.step()\n",
    "            train_loss += loss.item()\n",
    "        train_loss /= len(train_loader.dataset)\n",
    "        val_loss, val_accuracy = Modle_evaluation(\n",
    "            model=model,\n",
    "            data_loader=val_loader,\n",
    "            gredient=gredient,\n",
    "            device=device\n",
    "        )\n",
    "\n",
    "        if  val_accuracy > best_model_accurecy:\n",
    "           best_model_accurecy = val_accuracy\n",
    "           torch.save(model.state_dict(), checkpoint_path)\n",
    "           print('Save mode best parameter')\n",
    "        else:\n",
    "           patience = patience - 1\n",
    "    \n",
    "\n",
    "        print(f'epochs {epoch+1} / {num_epochs} loss {train_loss:3f}')\n",
    "        print(f'Validation loss {val_loss:3f}')\n",
    "        print(f'Validation Accuracy {val_accuracy:3f}')\n",
    "\n",
    "        if patience == 0:\n",
    "           print('Model Permormance is not improving.')\n",
    "           break"
   ]
  },
  {
   "cell_type": "code",
   "execution_count": 76,
   "id": "fcfa8c8a",
   "metadata": {},
   "outputs": [],
   "source": [
    "model = DigitClassifiar().to(Device)\n",
    "optimizer = optimizer.Adam(model.parameters(), lr=0.001)"
   ]
  },
  {
   "cell_type": "code",
   "execution_count": 77,
   "id": "251117c7",
   "metadata": {},
   "outputs": [],
   "source": [
    "checkpoint_path = os.path.join(\n",
    "    os.getcwd(), 'checkpoints', 'Best_Model.pth'\n",
    ")"
   ]
  },
  {
   "cell_type": "code",
   "execution_count": 78,
   "id": "0673827d",
   "metadata": {},
   "outputs": [
    {
     "name": "stdout",
     "output_type": "stream",
     "text": [
      "Model Loaded Successfully from checkpoint\n"
     ]
    }
   ],
   "source": [
    "if os.path.exists(checkpoint_path):\n",
    "    model.load_state_dict(torch.load(checkpoint_path))\n",
    "    print('Model Loaded Successfully from checkpoint')"
   ]
  },
  {
   "cell_type": "code",
   "execution_count": 79,
   "id": "794e1a8a",
   "metadata": {},
   "outputs": [
    {
     "name": "stdout",
     "output_type": "stream",
     "text": [
      "Save mode best parameter\n",
      "epochs 1 / 5 loss 0.002503\n",
      "Validation loss 0.018030\n",
      "Validation Accuracy 0.970476\n",
      "epochs 2 / 5 loss 0.002159\n",
      "Validation loss 0.015473\n",
      "Validation Accuracy 0.969841\n",
      "epochs 3 / 5 loss 0.001995\n",
      "Validation loss 0.015391\n",
      "Validation Accuracy 0.969206\n",
      "epochs 4 / 5 loss 0.001573\n",
      "Validation loss 0.015947\n",
      "Validation Accuracy 0.969683\n",
      "Model Permormance is not improving.\n"
     ]
    }
   ],
   "source": [
    "Train_Model(\n",
    "    model=model,\n",
    "    train_loader=Train_Dataloader,\n",
    "    val_loader=Validation_Dataloader,\n",
    "    gredient=gredient,\n",
    "    optimizer=optimizer,\n",
    "    checkpoint_path=checkpoint_path,\n",
    "    device=Device,\n",
    "    num_epochs=5\n",
    ")"
   ]
  }
 ],
 "metadata": {
  "kernelspec": {
   "display_name": "Python 3",
   "language": "python",
   "name": "python3"
  },
  "language_info": {
   "codemirror_mode": {
    "name": "ipython",
    "version": 3
   },
   "file_extension": ".py",
   "mimetype": "text/x-python",
   "name": "python",
   "nbconvert_exporter": "python",
   "pygments_lexer": "ipython3",
   "version": "3.13.7"
  }
 },
 "nbformat": 4,
 "nbformat_minor": 5
}
